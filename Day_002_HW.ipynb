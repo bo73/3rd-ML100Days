{
 "cells": [
  {
   "cell_type": "markdown",
   "metadata": {},
   "source": [
    "## [作業目標]\n",
    "了解機器學習適合應用的領域與範疇。"
   ]
  },
  {
   "cell_type": "markdown",
   "metadata": {},
   "source": [
    "## [作業重點]\n",
    "透過瞭解機器學習的運作方式，找出非常適用機器學習應用的領域及其原因"
   ]
  },
  {
   "cell_type": "markdown",
   "metadata": {},
   "source": [
    "## 作業\n",
    "請找出一個你認為機器學習可以發光發熱的領域並闡述原因? \n",
    "\n",
    "機器學習可以運用在物聯網及自動駕駛上。藉由物聯網的資料整合搭配自動駕駛，可減少不必要的行車事故，與加強每台車的行\n",
    "車效率，機器學習在物聯網上，收集當下各路段、各時段的行車數量，以最有效率的方式調變各路口間紅綠燈變化或是提示車主選擇其他路線，藉以縮短行車時間、減少不必要的能源耗損及排汙。自動駕駛方面:動態收集當前周邊影像、雷達、超音波等相關資料。藉由不斷地機器學習，車體本身可藉由不斷地經驗累積(機器學習)，自然而然可於不同行車環境，調整自身車體姿態，降低事故發生，提升行車安全。"
   ]
  },
  {
   "cell_type": "code",
   "execution_count": null,
   "metadata": {},
   "outputs": [],
   "source": [
    "   "
   ]
  }
 ],
 "metadata": {
  "kernelspec": {
   "display_name": "Python 3",
   "language": "python",
   "name": "python3"
  },
  "language_info": {
   "codemirror_mode": {
    "name": "ipython",
    "version": 3
   },
   "file_extension": ".py",
   "mimetype": "text/x-python",
   "name": "python",
   "nbconvert_exporter": "python",
   "pygments_lexer": "ipython3",
   "version": "3.6.8"
  }
 },
 "nbformat": 4,
 "nbformat_minor": 2
}
